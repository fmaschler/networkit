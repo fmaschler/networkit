{
 "cells": [
  {
   "cell_type": "code",
   "execution_count": 76,
   "metadata": {
    "collapsed": false
   },
   "outputs": [],
   "source": [
    "from networkit import *"
   ]
  },
  {
   "cell_type": "code",
   "execution_count": 87,
   "metadata": {
    "collapsed": true
   },
   "outputs": [],
   "source": [
    "G = readGraph(\"input/karate.graph\", Format.METIS)"
   ]
  },
  {
   "cell_type": "code",
   "execution_count": 88,
   "metadata": {
    "collapsed": false
   },
   "outputs": [
    {
     "data": {
      "text/plain": [
       "[(0, 462.1428571428572),\n",
       " (33, 321.1031746031746),\n",
       " (32, 153.38095238095238),\n",
       " (2, 151.70158730158732),\n",
       " (31, 146.0190476190476),\n",
       " (8, 59.058730158730164),\n",
       " (1, 56.95714285714285),\n",
       " (13, 48.43174603174603),\n",
       " (19, 34.2936507936508),\n",
       " (5, 31.666666666666668)]"
      ]
     },
     "execution_count": 88,
     "metadata": {},
     "output_type": "execute_result"
    }
   ],
   "source": [
    "# All dynamic algorithms (starting with \"Dyn\") have a run(), an update() \n",
    "# and an updateBatch() method. We start by calling run() on the initial graph\n",
    "dynBC = centrality.DynBetweenness(G)\n",
    "dynBC.run()\n",
    "dynBC.ranking()[:10]"
   ]
  },
  {
   "cell_type": "code",
   "execution_count": 89,
   "metadata": {
    "collapsed": false
   },
   "outputs": [],
   "source": [
    "# returns a new random edge for G\n",
    "def newEdge(G):\n",
    "    u = G.randomNode()\n",
    "    v = G.randomNode()\n",
    "    while G.hasEdge(u, v):\n",
    "        u = G.randomNode()\n",
    "        v = G.randomNode()\n",
    "    return u, v"
   ]
  },
  {
   "cell_type": "code",
   "execution_count": 90,
   "metadata": {
    "collapsed": false
   },
   "outputs": [
    {
     "name": "stdout",
     "output_type": "stream",
     "text": [
      "Adding edge  32 11\n"
     ]
    }
   ],
   "source": [
    "u, v = newEdge(G)\n",
    "print(\"Adding edge \", u, v)\n",
    "# we add the edge to the graph\n",
    "G.addEdge(u, v)\n",
    "# we create an event and update the BC scores\n",
    "ev = dynamic.GraphEvent(dynamic.GraphEvent.EDGE_ADDITION, u, v, 1.0)\n",
    "dynBC.update(ev)"
   ]
  },
  {
   "cell_type": "code",
   "execution_count": 91,
   "metadata": {
    "collapsed": false
   },
   "outputs": [
    {
     "data": {
      "text/plain": [
       "[(0, 432.3172161172163),\n",
       " (33, 306.32326007326026),\n",
       " (32, 184.89377289377305),\n",
       " (2, 143.29816849816854),\n",
       " (31, 134.52289377289387),\n",
       " (1, 54.82124542124542),\n",
       " (8, 47.81428571428571),\n",
       " (13, 43.44285714285715),\n",
       " (5, 31.66666666666667),\n",
       " (6, 31.666666666666664)]"
      ]
     },
     "execution_count": 91,
     "metadata": {},
     "output_type": "execute_result"
    }
   ],
   "source": [
    "dynBC.ranking()[:10]"
   ]
  },
  {
   "cell_type": "code",
   "execution_count": 92,
   "metadata": {
    "collapsed": false
   },
   "outputs": [],
   "source": [
    "# we now create a batch of edges\n",
    "k = 5\n",
    "batch = []\n",
    "for i in range(k):\n",
    "    u, v = newEdge(G)\n",
    "    batch.append(dynamic.GraphEvent(dynamic.GraphEvent.EDGE_ADDITION, u, v, 1.0))"
   ]
  },
  {
   "cell_type": "code",
   "execution_count": 93,
   "metadata": {
    "collapsed": true
   },
   "outputs": [],
   "source": [
    "# we update the graph with the batch of edge insertions\n",
    "for ev in batch:\n",
    "    G.addEdge(ev.u, ev.v)\n",
    "# we update the betweenness scores\n",
    "dynBC.updateBatch(batch)"
   ]
  },
  {
   "cell_type": "code",
   "execution_count": 94,
   "metadata": {
    "collapsed": false
   },
   "outputs": [
    {
     "data": {
      "text/plain": [
       "[(33, 339.35529307294075),\n",
       " (0, 322.1977943625002),\n",
       " (32, 153.37354279707236),\n",
       " (2, 116.56637349578529),\n",
       " (31, 111.78596762714419),\n",
       " (1, 81.99598506069093),\n",
       " (16, 48.585858585858574),\n",
       " (13, 29.837155001860843),\n",
       " (8, 27.68057661292953),\n",
       " (27, 23.333420174596636)]"
      ]
     },
     "execution_count": 94,
     "metadata": {},
     "output_type": "execute_result"
    }
   ],
   "source": [
    "dynBC.ranking()[:10]"
   ]
  },
  {
   "cell_type": "code",
   "execution_count": null,
   "metadata": {
    "collapsed": true
   },
   "outputs": [],
   "source": []
  }
 ],
 "metadata": {
  "kernelspec": {
   "display_name": "Python 3",
   "language": "python",
   "name": "python3"
  },
  "language_info": {
   "codemirror_mode": {
    "name": "ipython",
    "version": 3
   },
   "file_extension": ".py",
   "mimetype": "text/x-python",
   "name": "python",
   "nbconvert_exporter": "python",
   "pygments_lexer": "ipython3",
   "version": "3.4.1"
  }
 },
 "nbformat": 4,
 "nbformat_minor": 0
}
